{
 "cells": [
  {
   "cell_type": "markdown",
   "id": "7bea6e9c",
   "metadata": {},
   "source": [
    "# Import des librairies"
   ]
  },
  {
   "cell_type": "code",
   "execution_count": 3,
   "id": "d5acf04b",
   "metadata": {},
   "outputs": [],
   "source": [
    "import pandas as pd\n",
    "from PIL import Image\n",
    "import numpy as np\n",
    "import io\n",
    "from io import BytesIO\n",
    "import os\n",
    "import datetime \n",
    "\n",
    "import matplotlib.pyplot as plt\n",
    "import tensorflow as tf\n",
    "\n",
    "from tensorflow.keras.preprocessing.image import img_to_array\n",
    "from tensorflow.keras import Model\n",
    "from pyspark.sql.functions import col, pandas_udf, PandasUDFType, element_at, split\n",
    "from pyspark.sql import SparkSession\n",
    "from pyspark.sql.types import Row\n",
    "from tensorflow.keras.applications.mobilenet_v2 import MobileNetV2, preprocess_input\n",
    "\n",
    "# data handling\n",
    "from pyspark.sql.functions import element_at, split\n",
    "from pyspark.sql.functions import pandas_udf, PandasUDFType\n",
    "from pyspark.sql.functions import udf\n",
    "from pyspark.sql.functions import input_file_name\n",
    "from pyspark.sql.types import *\n",
    "from typing import Iterator\n",
    "\n",
    "\n",
    "# ml tasks\n",
    "from pyspark.ml.image import ImageSchema\n",
    "from pyspark.ml.feature import VectorAssembler\n",
    "from pyspark.ml.feature import PCA\n",
    "from pyspark.ml.feature import  StringIndexer\n",
    "# transform\n",
    "from pyspark.ml.image import ImageSchema\n",
    "from pyspark.ml.linalg import Vectors, VectorUDT\n",
    "\n",
    "from encoder import Encoder\n",
    "\n",
    "import warnings\n",
    "warnings.filterwarnings(\"ignore\", category=UserWarning) "
   ]
  },
  {
   "cell_type": "markdown",
   "id": "0db0a149",
   "metadata": {},
   "source": [
    "## Accèder aux images stockées sur S3 depuis le notebook Jupyte"
   ]
  },
  {
   "cell_type": "code",
   "execution_count": 4,
   "id": "4426cd21",
   "metadata": {},
   "outputs": [
    {
     "data": {
      "image/png": "[encoded data removed]",
      "text/plain": [
       "<PIL.JpegImagePlugin.JpegImageFile image mode=RGB size=100x100>"
      ]
     },
     "execution_count": 4,
     "metadata": {},
     "output_type": "execute_result"
    }
   ],
   "source": [
    "import boto3\n",
    "import PIL.Image\n",
    "\n",
    "s3_bucket_name = \"cloudfruits360\"\n",
    "image_key = \"Apricot/0_100.jpg\"\n",
    "\n",
    "s3 = boto3.client('s3')\n",
    "image = s3.get_object(Bucket=s3_bucket_name, Key=image_key)\n",
    "PIL.Image.open(image['Body'])"
   ]
  },
  {
   "cell_type": "markdown",
   "id": "e9f19e2d",
   "metadata": {},
   "source": [
    "## Utiliser PySpark"
   ]
  },
  {
   "cell_type": "code",
   "execution_count": 8,
   "id": "668dd189",
   "metadata": {},
   "outputs": [
    {
     "name": "stdout",
     "output_type": "stream",
     "text": [
      "[1, 4, 9, 16]\n"
     ]
    }
   ],
   "source": [
    "from pyspark import SparkContext\n",
    "from pyspark.sql import SparkSession\n",
    "\n",
    "#sc = SparkContext()\n",
    "sc = SparkContext.getOrCreate()\n",
    "sc.setLogLevel(\"ERROR\")\n",
    "spark = SparkSession(sparkContext=sc)\n",
    "nums = spark.sparkContext.parallelize([1,2,3,4])\n",
    "print(nums.map(lambda x: x*x).collect())"
   ]
  },
  {
   "cell_type": "markdown",
   "id": "191c3218",
   "metadata": {},
   "source": [
    " ## Utiliser PySpark avec accès à S3"
   ]
  },
  {
   "cell_type": "code",
   "execution_count": 9,
   "id": "74646c43",
   "metadata": {},
   "outputs": [
    {
     "name": "stderr",
     "output_type": "stream",
     "text": [
      "[Stage 5:>                                                          (0 + 1) / 1]\r"
     ]
    },
    {
     "name": "stdout",
     "output_type": "stream",
     "text": [
      "+--------------------+\n",
      "|               image|\n",
      "+--------------------+\n",
      "|{s3a://cloudfruit...|\n",
      "|{s3a://cloudfruit...|\n",
      "|{s3a://cloudfruit...|\n",
      "|{s3a://cloudfruit...|\n",
      "|{s3a://cloudfruit...|\n",
      "|{s3a://cloudfruit...|\n",
      "|{s3a://cloudfruit...|\n",
      "|{s3a://cloudfruit...|\n",
      "|{s3a://cloudfruit...|\n",
      "|{s3a://cloudfruit...|\n",
      "|{s3a://cloudfruit...|\n",
      "|{s3a://cloudfruit...|\n",
      "|{s3a://cloudfruit...|\n",
      "|{s3a://cloudfruit...|\n",
      "|{s3a://cloudfruit...|\n",
      "|{s3a://cloudfruit...|\n",
      "|{s3a://cloudfruit...|\n",
      "|{s3a://cloudfruit...|\n",
      "|{s3a://cloudfruit...|\n",
      "|{s3a://cloudfruit...|\n",
      "+--------------------+\n",
      "only showing top 20 rows\n",
      "\n"
     ]
    },
    {
     "name": "stderr",
     "output_type": "stream",
     "text": [
      "                                                                                \r"
     ]
    }
   ],
   "source": [
    "s3_bucket_name = 'cloudfruits360'\n",
    "s3_bucket_name_database = 'Training/'\n",
    "df = spark.read.format('Image').load(f's3a://{s3_bucket_name}/{s3_bucket_name_database}/*.jpg')\n",
    "df.show()"
   ]
  },
  {
   "cell_type": "markdown",
   "id": "12d5b93d",
   "metadata": {},
   "source": [
    "## Définition des PATH pour charger les images et enregistrer les résultats\n"
   ]
  },
  {
   "cell_type": "code",
   "execution_count": 10,
   "id": "6d167d40",
   "metadata": {},
   "outputs": [],
   "source": [
    "s3_bucket_name = 'cloudfruits360'\n",
    "s3_input_images_process_bucket = 'Training'\n",
    "s3_output_images_features_processed = 'results_images_features_processed'\n",
    "s3_output_images_processed = 'images_processed'\n",
    "s3_output_features_classify = 'features_classify'\n",
    "s3_output_features_parquet = \"P8_cloud_fruits_features.parquet\""
   ]
  },
  {
   "cell_type": "markdown",
   "id": "5310a4eb",
   "metadata": {},
   "source": [
    "## Traitement des données\n",
    "### A.Chargement des données"
   ]
  },
  {
   "cell_type": "code",
   "execution_count": 11,
   "id": "01d13c46",
   "metadata": {},
   "outputs": [
    {
     "name": "stdout",
     "output_type": "stream",
     "text": [
      "... list images dans AWS S3 bucket input_images_to_process\n",
      "Contains 54 images.\n",
      "['Training/Apple_Golden_1_0_100.jpg', 'Training/Apple_Golden_1_10_100.jpg', 'Training/Apple_Golden_1_1_100.jpg', 'Training/Apple_Golden_1_2_100.jpg', 'Training/Apple_Golden_1_3_100.jpg', 'Training/Apple_Golden_1_4_100.jpg', 'Training/Apple_Golden_1_5_100.jpg', 'Training/Apple_Golden_1_6_100.jpg', 'Training/Apple_Golden_1_7_100.jpg', 'Training/Apple_Golden_1_8_100.jpg', 'Training/Apple_Golden_1_9_100.jpg', 'Training/Apricot_0_100.jpg', 'Training/Apricot_10_100.jpg', 'Training/Apricot_12_100.jpg', 'Training/Apricot_13_100.jpg', 'Training/Apricot_14_100.jpg', 'Training/Apricot_15_100.jpg', 'Training/Apricot_16_100.jpg', 'Training/Apricot_17_100.jpg', 'Training/Apricot_1_100.jpg', 'Training/Apricot_2_100.jpg', 'Training/Blueberry_0_100.jpg', 'Training/Blueberry_10_100.jpg', 'Training/Blueberry_1_100.jpg', 'Training/Blueberry_2_100.jpg', 'Training/Blueberry_3_100.jpg', 'Training/Blueberry_4_100.jpg', 'Training/Blueberry_5_100.jpg', 'Training/Blueberry_6_100.jpg', 'Training/Blueberry_7_100.jpg', 'Training/Blueberry_8_100.jpg', 'Training/Blueberry_9_100.jpg', 'Training/Kiwi_0_100.jpg', 'Training/Kiwi_10_100.jpg', 'Training/Kiwi_11_100.jpg', 'Training/Kiwi_12_100.jpg', 'Training/Kiwi_13_100.jpg', 'Training/Kiwi_14_100.jpg', 'Training/Kiwi_15_100.jpg', 'Training/Kiwi_16_100.jpg', 'Training/Kiwi_17_100.jpg', 'Training/Kiwi_1_100.jpg', 'Training/Kiwi_2_100.jpg', 'Training/Watermelon_0_100.jpg', 'Training/Watermelon_10_100.jpg', 'Training/Watermelon_1_100.jpg', 'Training/Watermelon_2_100.jpg', 'Training/Watermelon_3_100.jpg', 'Training/Watermelon_4_100.jpg', 'Training/Watermelon_5_100.jpg', 'Training/Watermelon_6_100.jpg', 'Training/Watermelon_7_100.jpg', 'Training/Watermelon_8_100.jpg', 'Training/Watermelon_9_100.jpg']\n"
     ]
    }
   ],
   "source": [
    "# Connect to S3 storage\n",
    "s3_bucket = boto3.resource('s3').Bucket(s3_bucket_name)\n",
    "\n",
    "print(\"... list images dans AWS S3 bucket input_images_to_process\")\n",
    "\n",
    "# list images from Fruits 360 dataset\n",
    "image_keys = [image.key for image in s3_bucket.objects.filter(Prefix=s3_input_images_process_bucket) if '.jpg' in image.key]\n",
    "print(f\"Contains {len(image_keys)} images.\")\n",
    "print(image_keys)  "
   ]
  },
  {
   "cell_type": "markdown",
   "id": "c25bcae8",
   "metadata": {},
   "source": [
    "## Création de la SparkSession"
   ]
  },
  {
   "cell_type": "markdown",
   "id": "c49474e2",
   "metadata": {},
   "source": [
    "Renvoie : (SparkSession) ma session Spark"
   ]
  },
  {
   "cell_type": "code",
   "execution_count": 12,
   "id": "2ce6eb2c",
   "metadata": {},
   "outputs": [],
   "source": [
    "def start_spark() -> SparkSession:\n",
    "    spark = SparkSession.builder \\\n",
    "    .master(\"local\") \\\n",
    "    .appName(\"cloudfruit\") \\\n",
    "    .config(\"spark.sql.parquet.writeLegacyFormat\", 'true')\\\n",
    "    .getOrCreate()\n",
    "    return spark"
   ]
  },
  {
   "cell_type": "code",
   "execution_count": 13,
   "id": "3b9ea5bf",
   "metadata": {},
   "outputs": [
    {
     "data": {
      "text/html": [
       "\n",
       "            <div>\n",
       "                <p><b>SparkSession - in-memory</b></p>\n",
       "                \n",
       "        <div>\n",
       "            <p><b>SparkContext</b></p>\n",
       "\n",
       "            <p><a href=\"http://ip-172-31-37-41.eu-west-3.compute.internal:4040\">Spark UI</a></p>\n",
       "\n",
       "            <dl>\n",
       "              <dt>Version</dt>\n",
       "                <dd><code>v3.2.2</code></dd>\n",
       "              <dt>Master</dt>\n",
       "                <dd><code>local[*]</code></dd>\n",
       "              <dt>AppName</dt>\n",
       "                <dd><code>pyspark-shell</code></dd>\n",
       "            </dl>\n",
       "        </div>\n",
       "        \n",
       "            </div>\n",
       "        "
      ],
      "text/plain": [
       "<pyspark.sql.session.SparkSession at 0x7f9c2f558150>"
      ]
     },
     "execution_count": 13,
     "metadata": {},
     "output_type": "execute_result"
    }
   ],
   "source": [
    "#Affichage des informations de Spark en cours d'execution\n",
    "spark"
   ]
  },
  {
   "cell_type": "markdown",
   "id": "3cd5593f",
   "metadata": {},
   "source": [
    "\n",
    "Charger une image à partir du stockage AWS S3.\n",
    "Arguments :\n",
    "image_key (str) : clé d'image dans le compartiment AWS S3\n",
    "bucket_name (str) : nom du compartiment S3\n",
    "Renvoie : (PIL.Image.Image) données d'image RVB"
   ]
  },
  {
   "cell_type": "code",
   "execution_count": 14,
   "id": "eff51960",
   "metadata": {},
   "outputs": [],
   "source": [
    "def load_image(image_key: str, bucket_name: str) -> PIL.Image.Image:\n",
    "    bucket = boto3.resource('s3').Bucket(bucket_name)\n",
    "    buffer = BytesIO()\n",
    "    bucket.Object(image_key).download_fileobj(buffer)\n",
    "    return PIL.Image.open(buffer)"
   ]
  },
  {
   "cell_type": "markdown",
   "id": "6eccc5c9",
   "metadata": {},
   "source": [
    "Encode une image dans un vecteur de longueur fixe de valeurs flottantes à l'aide d'un encodeur DNN pré-entraîné.\n",
    "Arguments :\n",
    "img (Row): image_key (str): clé d'image dans le compartiment AWS S3\n",
    "Renvoie : (Row) l'encodage de l'image, représenté par une Row avec des champs :\n",
    "origin (str) : chemin d'origine de l'image (c'est-à-dire la clé de l'image dans le compartiment S3)\n",
    "label (str): le label de l'image\n",
    "x0 (float): première fonctionnalité d'encodage d'image\n",
    "(...)\n",
    "x_(n-1) (float) : dernière fonctionnalité d'encodage d'image"
   ]
  },
  {
   "cell_type": "code",
   "execution_count": 15,
   "id": "ce46e5b7",
   "metadata": {},
   "outputs": [],
   "source": [
    "def process_image(image_key: str) -> Row:\n",
    "    image_label = image_key.split('/')[-2]\n",
    "    image_array = load_image(image_key=image_key, bucket_name=s3_bucket_name)\n",
    "    image_encoding = broadcastEncoder.value.encode(image_array)\n",
    "    image_encoding = {f'x{i}': value for i, value in enumerate(image_encoding)}\n",
    "    return Row(origin=image_key, label=image_label, **image_encoding)"
   ]
  },
  {
   "cell_type": "markdown",
   "id": "3c899936",
   "metadata": {},
   "source": [
    "On va charger l'encodeur d'image, encoder les images et écrire la sortie dans le fichier du dossier de sortie du compartiment AWS S3, ensuite on va écrire le résultat sous forme de fichier parquet dans le compartiment AWS S3. enregistrer en tant que fichier csv et enregistrer en tant que fichier parquet"
   ]
  },
  {
   "cell_type": "code",
   "execution_count": 16,
   "id": "56c4929f",
   "metadata": {
    "scrolled": false
   },
   "outputs": [
    {
     "name": "stdout",
     "output_type": "stream",
     "text": [
      "**** charger l'encodeur d'image ****\n",
      "**** encoder les images et écrire la sortie dans le fichier du dossier de sortie du compartiment AWS S3 ****\n"
     ]
    },
    {
     "name": "stderr",
     "output_type": "stream",
     "text": [
      "                                                                                \r"
     ]
    },
    {
     "name": "stdout",
     "output_type": "stream",
     "text": [
      "**** Écrire le résultat sous forme de fichier parquet dans le compartiment AWS S3 results_images_features_processed****\n"
     ]
    },
    {
     "name": "stderr",
     "output_type": "stream",
     "text": [
      "                                                                                \r"
     ]
    },
    {
     "name": "stdout",
     "output_type": "stream",
     "text": [
      "**** Renommera le fichier [s3.ObjectSummary(bucket_name='cloudfruits360', key='results_images_features_processed/20221127-131130/features_classify/part-00000-6a59c483-4fce-49e7-920c-462f204f944b-c000.snappy.parquet')]****\n",
      "**** Renommera le fichier part-00000-6a59c483-4fce-49e7-920c-462f204f944b-c000.snappy.parquet de results_images_features_processed/20221127-131130/features_classify/P8_cloud_fruits_features.parquet\n",
      "**** Fichier part-00000-6a59c483-4fce-49e7-920c-462f204f944b-c000.snappy.parquet renommé avec succès en results_images_features_processed/20221127-131130/features_classify/P8_cloud_fruits_features.parquet****\n"
     ]
    }
   ],
   "source": [
    "if len(image_keys) > 0:\n",
    "    \n",
    "    spark = start_spark()\n",
    "    s3_client = boto3.client('s3')\n",
    "    \n",
    "    currentDate = datetime.datetime.today()\n",
    "    \n",
    "    print(\"**** charger l'encodeur d'image ****\")\n",
    "    broadcastEncoder = spark.sparkContext.broadcast(Encoder())\n",
    "      \n",
    "    print(\"**** encoder les images et écrire la sortie dans le fichier du dossier de sortie du compartiment AWS S3 ****\")\n",
    "    output = spark.sparkContext.parallelize(image_keys).map(process_image).toDF()\n",
    "\n",
    "    # La méthode coalesce réduit le nombre de partitions dans un DataFrame\n",
    "    # coalesce(1) consolide les données dans une seule partition\n",
    "    # enregistrer en tant que fichier csv\n",
    "    #output.coalesce(1).write.csv(f's3a://{s3_bucket_name}/{s3_output_images_features_processed}/{currentDate.strftime(\"%Y%m%d-%H%M%S\")}/results.csv') \n",
    "    \n",
    "    # Écrire le résultat dans le dossier de sortie du compartiment AWS s3\n",
    "    print(f\"**** Écrire le résultat sous forme de fichier parquet dans le compartiment AWS S3 {s3_output_images_features_processed}****\")\n",
    "    # enregistrer en tant que fichier parquet\n",
    "    output.coalesce(1).write.parquet(f's3a://{s3_bucket_name}/{s3_output_images_features_processed}/{currentDate.strftime(\"%Y%m%d-%H%M%S\")}/{s3_output_features_classify}') \n",
    "\n",
    "    # lister le fichier de parquet du dossier de sortie\n",
    "    s3_prefix = s3_output_images_features_processed + \"/\" + currentDate.strftime(\"%Y%m%d-%H%M%S\") +\"/\" + s3_output_features_classify\n",
    "    parquet_files = [parquet_file for parquet_file in s3_bucket.objects.filter(Prefix=s3_prefix) if '.parquet' in parquet_file.key]    \n",
    "    print(f\"**** Renommera le fichier {parquet_files}****\")\n",
    "\n",
    "    if len(parquet_files) == 1:\n",
    "        parquet_file = parquet_files[0]\n",
    "        filename = parquet_file.key.split('/')[-1]\n",
    "        folder = parquet_file.key.split('/')[-2]        \n",
    "        try:\n",
    "            output_key = f'{s3_output_images_features_processed}/{currentDate.strftime(\"%Y%m%d-%H%M%S\")}/{folder}/{s3_output_features_parquet}'\n",
    "            print(f\"**** Renommera le fichier {filename} de {output_key}\")\n",
    "            copy_source = {'Bucket': s3_bucket_name, 'Key': parquet_file.key}\n",
    "            s3_client.copy_object(Bucket = s3_bucket_name, CopySource = copy_source, Key = output_key)\n",
    "            s3_client.delete_object(Bucket = s3_bucket_name, Key = parquet_file.key)    \n",
    "            print(f\"**** Fichier {filename} renommé avec succès en {output_key}****\")\n",
    "        except Exception as e:\n",
    "            print(f\"****{filename} pas renommé correctement. L'erreur relevée est: ****\", e)\n",
    "        \n",
    "    spark.sparkContext.stop()\n",
    "\n",
    "else:\n",
    "    print(\"****pas de fichier à traiter, fin de script****\")"
   ]
  },
  {
   "cell_type": "markdown",
   "id": "f31c4281",
   "metadata": {},
   "source": [
    "## Déplacer les données vers le dossier traité\n"
   ]
  },
  {
   "cell_type": "code",
   "execution_count": 17,
   "id": "a40f2c29",
   "metadata": {
    "scrolled": false
   },
   "outputs": [
    {
     "name": "stdout",
     "output_type": "stream",
     "text": [
      "*** va bouger 54 fichiers de l'ensemble de données Fruits 360 dans le compartiment AWS S3, à partir deTraining to results_images_features_processed/images_processed\n",
      "Déplacera le fichier de Training/Apple_Golden_1_0_100.jpg à results_images_features_processed/20221127-131130/images_processed/Apple_Golden_1_0_100.jpg\n",
      "Fichier Apple_Golden_1_0_100.jpg renommé avec succès en results_images_features_processed/20221127-131130/images_processed/Apple_Golden_1_0_100.jpg\n",
      "Déplacera le fichier de Training/Apple_Golden_1_10_100.jpg à results_images_features_processed/20221127-131130/images_processed/Apple_Golden_1_10_100.jpg\n",
      "Fichier Apple_Golden_1_10_100.jpg renommé avec succès en results_images_features_processed/20221127-131130/images_processed/Apple_Golden_1_10_100.jpg\n",
      "Déplacera le fichier de Training/Apple_Golden_1_1_100.jpg à results_images_features_processed/20221127-131130/images_processed/Apple_Golden_1_1_100.jpg\n",
      "Fichier Apple_Golden_1_1_100.jpg renommé avec succès en results_images_features_processed/20221127-131130/images_processed/Apple_Golden_1_1_100.jpg\n",
      "Déplacera le fichier de Training/Apple_Golden_1_2_100.jpg à results_images_features_processed/20221127-131130/images_processed/Apple_Golden_1_2_100.jpg\n",
      "Fichier Apple_Golden_1_2_100.jpg renommé avec succès en results_images_features_processed/20221127-131130/images_processed/Apple_Golden_1_2_100.jpg\n",
      "Déplacera le fichier de Training/Apple_Golden_1_3_100.jpg à results_images_features_processed/20221127-131130/images_processed/Apple_Golden_1_3_100.jpg\n",
      "Fichier Apple_Golden_1_3_100.jpg renommé avec succès en results_images_features_processed/20221127-131130/images_processed/Apple_Golden_1_3_100.jpg\n",
      "Déplacera le fichier de Training/Apple_Golden_1_4_100.jpg à results_images_features_processed/20221127-131130/images_processed/Apple_Golden_1_4_100.jpg\n",
      "Fichier Apple_Golden_1_4_100.jpg renommé avec succès en results_images_features_processed/20221127-131130/images_processed/Apple_Golden_1_4_100.jpg\n",
      "Déplacera le fichier de Training/Apple_Golden_1_5_100.jpg à results_images_features_processed/20221127-131130/images_processed/Apple_Golden_1_5_100.jpg\n",
      "Fichier Apple_Golden_1_5_100.jpg renommé avec succès en results_images_features_processed/20221127-131130/images_processed/Apple_Golden_1_5_100.jpg\n",
      "Déplacera le fichier de Training/Apple_Golden_1_6_100.jpg à results_images_features_processed/20221127-131130/images_processed/Apple_Golden_1_6_100.jpg\n",
      "Fichier Apple_Golden_1_6_100.jpg renommé avec succès en results_images_features_processed/20221127-131130/images_processed/Apple_Golden_1_6_100.jpg\n",
      "Déplacera le fichier de Training/Apple_Golden_1_7_100.jpg à results_images_features_processed/20221127-131130/images_processed/Apple_Golden_1_7_100.jpg\n",
      "Fichier Apple_Golden_1_7_100.jpg renommé avec succès en results_images_features_processed/20221127-131130/images_processed/Apple_Golden_1_7_100.jpg\n",
      "Déplacera le fichier de Training/Apple_Golden_1_8_100.jpg à results_images_features_processed/20221127-131130/images_processed/Apple_Golden_1_8_100.jpg\n",
      "Fichier Apple_Golden_1_8_100.jpg renommé avec succès en results_images_features_processed/20221127-131130/images_processed/Apple_Golden_1_8_100.jpg\n",
      "Déplacera le fichier de Training/Apple_Golden_1_9_100.jpg à results_images_features_processed/20221127-131130/images_processed/Apple_Golden_1_9_100.jpg\n",
      "Fichier Apple_Golden_1_9_100.jpg renommé avec succès en results_images_features_processed/20221127-131130/images_processed/Apple_Golden_1_9_100.jpg\n",
      "Déplacera le fichier de Training/Apricot_0_100.jpg à results_images_features_processed/20221127-131130/images_processed/Apricot_0_100.jpg\n",
      "Fichier Apricot_0_100.jpg renommé avec succès en results_images_features_processed/20221127-131130/images_processed/Apricot_0_100.jpg\n",
      "Déplacera le fichier de Training/Apricot_10_100.jpg à results_images_features_processed/20221127-131130/images_processed/Apricot_10_100.jpg\n",
      "Fichier Apricot_10_100.jpg renommé avec succès en results_images_features_processed/20221127-131130/images_processed/Apricot_10_100.jpg\n",
      "Déplacera le fichier de Training/Apricot_12_100.jpg à results_images_features_processed/20221127-131130/images_processed/Apricot_12_100.jpg\n",
      "Fichier Apricot_12_100.jpg renommé avec succès en results_images_features_processed/20221127-131130/images_processed/Apricot_12_100.jpg\n",
      "Déplacera le fichier de Training/Apricot_13_100.jpg à results_images_features_processed/20221127-131130/images_processed/Apricot_13_100.jpg\n",
      "Fichier Apricot_13_100.jpg renommé avec succès en results_images_features_processed/20221127-131130/images_processed/Apricot_13_100.jpg\n",
      "Déplacera le fichier de Training/Apricot_14_100.jpg à results_images_features_processed/20221127-131130/images_processed/Apricot_14_100.jpg\n",
      "Fichier Apricot_14_100.jpg renommé avec succès en results_images_features_processed/20221127-131130/images_processed/Apricot_14_100.jpg\n",
      "Déplacera le fichier de Training/Apricot_15_100.jpg à results_images_features_processed/20221127-131130/images_processed/Apricot_15_100.jpg\n",
      "Fichier Apricot_15_100.jpg renommé avec succès en results_images_features_processed/20221127-131130/images_processed/Apricot_15_100.jpg\n",
      "Déplacera le fichier de Training/Apricot_16_100.jpg à results_images_features_processed/20221127-131130/images_processed/Apricot_16_100.jpg\n",
      "Fichier Apricot_16_100.jpg renommé avec succès en results_images_features_processed/20221127-131130/images_processed/Apricot_16_100.jpg\n",
      "Déplacera le fichier de Training/Apricot_17_100.jpg à results_images_features_processed/20221127-131130/images_processed/Apricot_17_100.jpg\n",
      "Fichier Apricot_17_100.jpg renommé avec succès en results_images_features_processed/20221127-131130/images_processed/Apricot_17_100.jpg\n",
      "Déplacera le fichier de Training/Apricot_1_100.jpg à results_images_features_processed/20221127-131130/images_processed/Apricot_1_100.jpg\n",
      "Fichier Apricot_1_100.jpg renommé avec succès en results_images_features_processed/20221127-131130/images_processed/Apricot_1_100.jpg\n",
      "Déplacera le fichier de Training/Apricot_2_100.jpg à results_images_features_processed/20221127-131130/images_processed/Apricot_2_100.jpg\n",
      "Fichier Apricot_2_100.jpg renommé avec succès en results_images_features_processed/20221127-131130/images_processed/Apricot_2_100.jpg\n",
      "Déplacera le fichier de Training/Blueberry_0_100.jpg à results_images_features_processed/20221127-131130/images_processed/Blueberry_0_100.jpg\n",
      "Fichier Blueberry_0_100.jpg renommé avec succès en results_images_features_processed/20221127-131130/images_processed/Blueberry_0_100.jpg\n",
      "Déplacera le fichier de Training/Blueberry_10_100.jpg à results_images_features_processed/20221127-131130/images_processed/Blueberry_10_100.jpg\n",
      "Fichier Blueberry_10_100.jpg renommé avec succès en results_images_features_processed/20221127-131130/images_processed/Blueberry_10_100.jpg\n",
      "Déplacera le fichier de Training/Blueberry_1_100.jpg à results_images_features_processed/20221127-131130/images_processed/Blueberry_1_100.jpg\n",
      "Fichier Blueberry_1_100.jpg renommé avec succès en results_images_features_processed/20221127-131130/images_processed/Blueberry_1_100.jpg\n",
      "Déplacera le fichier de Training/Blueberry_2_100.jpg à results_images_features_processed/20221127-131130/images_processed/Blueberry_2_100.jpg\n",
      "Fichier Blueberry_2_100.jpg renommé avec succès en results_images_features_processed/20221127-131130/images_processed/Blueberry_2_100.jpg\n",
      "Déplacera le fichier de Training/Blueberry_3_100.jpg à results_images_features_processed/20221127-131130/images_processed/Blueberry_3_100.jpg\n",
      "Fichier Blueberry_3_100.jpg renommé avec succès en results_images_features_processed/20221127-131130/images_processed/Blueberry_3_100.jpg\n",
      "Déplacera le fichier de Training/Blueberry_4_100.jpg à results_images_features_processed/20221127-131130/images_processed/Blueberry_4_100.jpg\n",
      "Fichier Blueberry_4_100.jpg renommé avec succès en results_images_features_processed/20221127-131130/images_processed/Blueberry_4_100.jpg\n",
      "Déplacera le fichier de Training/Blueberry_5_100.jpg à results_images_features_processed/20221127-131130/images_processed/Blueberry_5_100.jpg\n",
      "Fichier Blueberry_5_100.jpg renommé avec succès en results_images_features_processed/20221127-131130/images_processed/Blueberry_5_100.jpg\n",
      "Déplacera le fichier de Training/Blueberry_6_100.jpg à results_images_features_processed/20221127-131130/images_processed/Blueberry_6_100.jpg\n",
      "Fichier Blueberry_6_100.jpg renommé avec succès en results_images_features_processed/20221127-131130/images_processed/Blueberry_6_100.jpg\n",
      "Déplacera le fichier de Training/Blueberry_7_100.jpg à results_images_features_processed/20221127-131130/images_processed/Blueberry_7_100.jpg\n",
      "Fichier Blueberry_7_100.jpg renommé avec succès en results_images_features_processed/20221127-131130/images_processed/Blueberry_7_100.jpg\n",
      "Déplacera le fichier de Training/Blueberry_8_100.jpg à results_images_features_processed/20221127-131130/images_processed/Blueberry_8_100.jpg\n",
      "Fichier Blueberry_8_100.jpg renommé avec succès en results_images_features_processed/20221127-131130/images_processed/Blueberry_8_100.jpg\n",
      "Déplacera le fichier de Training/Blueberry_9_100.jpg à results_images_features_processed/20221127-131130/images_processed/Blueberry_9_100.jpg\n",
      "Fichier Blueberry_9_100.jpg renommé avec succès en results_images_features_processed/20221127-131130/images_processed/Blueberry_9_100.jpg\n",
      "Déplacera le fichier de Training/Kiwi_0_100.jpg à results_images_features_processed/20221127-131130/images_processed/Kiwi_0_100.jpg\n",
      "Fichier Kiwi_0_100.jpg renommé avec succès en results_images_features_processed/20221127-131130/images_processed/Kiwi_0_100.jpg\n",
      "Déplacera le fichier de Training/Kiwi_10_100.jpg à results_images_features_processed/20221127-131130/images_processed/Kiwi_10_100.jpg\n",
      "Fichier Kiwi_10_100.jpg renommé avec succès en results_images_features_processed/20221127-131130/images_processed/Kiwi_10_100.jpg\n",
      "Déplacera le fichier de Training/Kiwi_11_100.jpg à results_images_features_processed/20221127-131130/images_processed/Kiwi_11_100.jpg\n",
      "Fichier Kiwi_11_100.jpg renommé avec succès en results_images_features_processed/20221127-131130/images_processed/Kiwi_11_100.jpg\n",
      "Déplacera le fichier de Training/Kiwi_12_100.jpg à results_images_features_processed/20221127-131130/images_processed/Kiwi_12_100.jpg\n",
      "Fichier Kiwi_12_100.jpg renommé avec succès en results_images_features_processed/20221127-131130/images_processed/Kiwi_12_100.jpg\n",
      "Déplacera le fichier de Training/Kiwi_13_100.jpg à results_images_features_processed/20221127-131130/images_processed/Kiwi_13_100.jpg\n",
      "Fichier Kiwi_13_100.jpg renommé avec succès en results_images_features_processed/20221127-131130/images_processed/Kiwi_13_100.jpg\n",
      "Déplacera le fichier de Training/Kiwi_14_100.jpg à results_images_features_processed/20221127-131130/images_processed/Kiwi_14_100.jpg\n",
      "Fichier Kiwi_14_100.jpg renommé avec succès en results_images_features_processed/20221127-131130/images_processed/Kiwi_14_100.jpg\n",
      "Déplacera le fichier de Training/Kiwi_15_100.jpg à results_images_features_processed/20221127-131130/images_processed/Kiwi_15_100.jpg\n",
      "Fichier Kiwi_15_100.jpg renommé avec succès en results_images_features_processed/20221127-131130/images_processed/Kiwi_15_100.jpg\n",
      "Déplacera le fichier de Training/Kiwi_16_100.jpg à results_images_features_processed/20221127-131130/images_processed/Kiwi_16_100.jpg\n",
      "Fichier Kiwi_16_100.jpg renommé avec succès en results_images_features_processed/20221127-131130/images_processed/Kiwi_16_100.jpg\n",
      "Déplacera le fichier de Training/Kiwi_17_100.jpg à results_images_features_processed/20221127-131130/images_processed/Kiwi_17_100.jpg\n",
      "Fichier Kiwi_17_100.jpg renommé avec succès en results_images_features_processed/20221127-131130/images_processed/Kiwi_17_100.jpg\n",
      "Déplacera le fichier de Training/Kiwi_1_100.jpg à results_images_features_processed/20221127-131130/images_processed/Kiwi_1_100.jpg\n",
      "Fichier Kiwi_1_100.jpg renommé avec succès en results_images_features_processed/20221127-131130/images_processed/Kiwi_1_100.jpg\n",
      "Déplacera le fichier de Training/Kiwi_2_100.jpg à results_images_features_processed/20221127-131130/images_processed/Kiwi_2_100.jpg\n",
      "Fichier Kiwi_2_100.jpg renommé avec succès en results_images_features_processed/20221127-131130/images_processed/Kiwi_2_100.jpg\n",
      "Déplacera le fichier de Training/Watermelon_0_100.jpg à results_images_features_processed/20221127-131130/images_processed/Watermelon_0_100.jpg\n",
      "Fichier Watermelon_0_100.jpg renommé avec succès en results_images_features_processed/20221127-131130/images_processed/Watermelon_0_100.jpg\n",
      "Déplacera le fichier de Training/Watermelon_10_100.jpg à results_images_features_processed/20221127-131130/images_processed/Watermelon_10_100.jpg\n",
      "Fichier Watermelon_10_100.jpg renommé avec succès en results_images_features_processed/20221127-131130/images_processed/Watermelon_10_100.jpg\n",
      "Déplacera le fichier de Training/Watermelon_1_100.jpg à results_images_features_processed/20221127-131130/images_processed/Watermelon_1_100.jpg\n",
      "Fichier Watermelon_1_100.jpg renommé avec succès en results_images_features_processed/20221127-131130/images_processed/Watermelon_1_100.jpg\n",
      "Déplacera le fichier de Training/Watermelon_2_100.jpg à results_images_features_processed/20221127-131130/images_processed/Watermelon_2_100.jpg\n",
      "Fichier Watermelon_2_100.jpg renommé avec succès en results_images_features_processed/20221127-131130/images_processed/Watermelon_2_100.jpg\n",
      "Déplacera le fichier de Training/Watermelon_3_100.jpg à results_images_features_processed/20221127-131130/images_processed/Watermelon_3_100.jpg\n",
      "Fichier Watermelon_3_100.jpg renommé avec succès en results_images_features_processed/20221127-131130/images_processed/Watermelon_3_100.jpg\n",
      "Déplacera le fichier de Training/Watermelon_4_100.jpg à results_images_features_processed/20221127-131130/images_processed/Watermelon_4_100.jpg\n",
      "Fichier Watermelon_4_100.jpg renommé avec succès en results_images_features_processed/20221127-131130/images_processed/Watermelon_4_100.jpg\n",
      "Déplacera le fichier de Training/Watermelon_5_100.jpg à results_images_features_processed/20221127-131130/images_processed/Watermelon_5_100.jpg\n",
      "Fichier Watermelon_5_100.jpg renommé avec succès en results_images_features_processed/20221127-131130/images_processed/Watermelon_5_100.jpg\n",
      "Déplacera le fichier de Training/Watermelon_6_100.jpg à results_images_features_processed/20221127-131130/images_processed/Watermelon_6_100.jpg\n",
      "Fichier Watermelon_6_100.jpg renommé avec succès en results_images_features_processed/20221127-131130/images_processed/Watermelon_6_100.jpg\n",
      "Déplacera le fichier de Training/Watermelon_7_100.jpg à results_images_features_processed/20221127-131130/images_processed/Watermelon_7_100.jpg\n",
      "Fichier Watermelon_7_100.jpg renommé avec succès en results_images_features_processed/20221127-131130/images_processed/Watermelon_7_100.jpg\n",
      "Déplacera le fichier de Training/Watermelon_8_100.jpg à results_images_features_processed/20221127-131130/images_processed/Watermelon_8_100.jpg\n",
      "Fichier Watermelon_8_100.jpg renommé avec succès en results_images_features_processed/20221127-131130/images_processed/Watermelon_8_100.jpg\n",
      "Déplacera le fichier de Training/Watermelon_9_100.jpg à results_images_features_processed/20221127-131130/images_processed/Watermelon_9_100.jpg\n",
      "Fichier Watermelon_9_100.jpg renommé avec succès en results_images_features_processed/20221127-131130/images_processed/Watermelon_9_100.jpg\n"
     ]
    }
   ],
   "source": [
    "if len(image_keys) > 0:\n",
    "\n",
    "    # Connect to S3 storage\n",
    "    s3_bucket = boto3.resource('s3').Bucket(s3_bucket_name)\n",
    "    s3_client = boto3.client('s3')\n",
    "\n",
    "    # Empty S3 storage\n",
    "    s3_bucket_images = [image for image in s3_bucket.objects.filter(Prefix=s3_input_images_process_bucket) if '.jpg' in image.key]\n",
    "    print(f\"*** va bouger {len(s3_bucket_images)} fichiers de l'ensemble de données Fruits 360 dans le compartiment AWS S3, à partir de{s3_input_images_process_bucket} to {s3_output_images_features_processed}/{s3_output_images_processed}\")\n",
    "    for s3_bucket_image in s3_bucket_images:\n",
    "        filename = s3_bucket_image.key.split('/')[-1]\n",
    "        try:\n",
    "            output_key = f'{s3_output_images_features_processed}/{currentDate.strftime(\"%Y%m%d-%H%M%S\")}/{s3_output_images_processed}/{filename}'\n",
    "            print(f'Déplacera le fichier de {s3_bucket_image.key} à {output_key}')\n",
    "\n",
    "            copy_source = {'Bucket': s3_bucket_name, 'Key': s3_bucket_image.key}\n",
    "            s3_client.copy_object(Bucket = s3_bucket_name, CopySource = copy_source, Key = output_key)\n",
    "            s3_client.delete_object(Bucket = s3_bucket_name, Key = s3_bucket_image.key)    \n",
    "            print(f'Fichier {filename} renommé avec succès en {output_key}')\n",
    "        except:\n",
    "            print(f\"Exception levée. {filename} pas déplacé correctement\")\n",
    "            \n",
    "else:\n",
    "    print(\"***pas de fichier à traiter, fin de script***\")\n",
    "    "
   ]
  },
  {
   "cell_type": "code",
   "execution_count": null,
   "id": "867bf41a",
   "metadata": {},
   "outputs": [],
   "source": []
  }
 ],
 "metadata": {
  "kernelspec": {
   "display_name": "Python 3 (ipykernel)",
   "language": "python",
   "name": "python3"
  },
  "language_info": {
   "codemirror_mode": {
    "name": "ipython",
    "version": 3
   },
   "file_extension": ".py",
   "mimetype": "text/x-python",
   "name": "python",
   "nbconvert_exporter": "python",
   "pygments_lexer": "ipython3",
   "version": "3.7.10"
  }
 },
 "nbformat": 4,
 "nbformat_minor": 5
}
